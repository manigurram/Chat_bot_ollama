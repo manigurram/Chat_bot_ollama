{
 "cells": [
  {
   "cell_type": "code",
   "execution_count": 4,
   "id": "f2589fdc-0e22-4cd9-af15-22937c1d8261",
   "metadata": {},
   "outputs": [],
   "source": [
    "# pip install openai"
   ]
  },
  {
   "cell_type": "code",
   "execution_count": 3,
   "id": "941c1c60-1699-47c9-8a27-75c5aba1e6e3",
   "metadata": {},
   "outputs": [
    {
     "name": "stdout",
     "output_type": "stream",
     "text": [
      "Hello human!\n"
     ]
    },
    {
     "name": "stdin",
     "output_type": "stream",
     "text": [
      "Ask a question (or type 'exit' to stop):  can you explain what is chatbot\n"
     ]
    },
    {
     "ename": "OpenAIError",
     "evalue": "The api_key client option must be set either by passing api_key to the client or by setting the OPENAI_API_KEY environment variable",
     "output_type": "error",
     "traceback": [
      "\u001b[0;31m---------------------------------------------------------------------------\u001b[0m",
      "\u001b[0;31mOpenAIError\u001b[0m                               Traceback (most recent call last)",
      "Cell \u001b[0;32mIn[3], line 64\u001b[0m\n\u001b[1;32m     61\u001b[0m                 \u001b[38;5;28mprint\u001b[39m(\u001b[38;5;124mf\u001b[39m\u001b[38;5;124m\"\u001b[39m\u001b[38;5;124mAssistant: \u001b[39m\u001b[38;5;132;01m{\u001b[39;00mmessage[\u001b[38;5;124m'\u001b[39m\u001b[38;5;124mcontent\u001b[39m\u001b[38;5;124m'\u001b[39m]\u001b[38;5;132;01m}\u001b[39;00m\u001b[38;5;124m\"\u001b[39m)\n\u001b[1;32m     63\u001b[0m \u001b[38;5;66;03m# Run the chat function to start the conversation\u001b[39;00m\n\u001b[0;32m---> 64\u001b[0m \u001b[43mchat\u001b[49m\u001b[43m(\u001b[49m\u001b[43m)\u001b[49m\n",
      "Cell \u001b[0;32mIn[3], line 53\u001b[0m, in \u001b[0;36mchat\u001b[0;34m()\u001b[0m\n\u001b[1;32m     50\u001b[0m     \u001b[38;5;28;01mbreak\u001b[39;00m\n\u001b[1;32m     52\u001b[0m \u001b[38;5;66;03m# Get the assistant's response\u001b[39;00m\n\u001b[0;32m---> 53\u001b[0m \u001b[38;5;28;01mwith\u001b[39;00m \u001b[43mopenai\u001b[49m\u001b[38;5;241;43m.\u001b[39;49m\u001b[43mClient\u001b[49m\u001b[43m(\u001b[49m\u001b[43m)\u001b[49m:\n\u001b[1;32m     54\u001b[0m     answer \u001b[38;5;241m=\u001b[39m conversation\u001b[38;5;241m.\u001b[39mmessage(user_input)\n\u001b[1;32m     56\u001b[0m \u001b[38;5;66;03m# Print the conversation history\u001b[39;00m\n",
      "File \u001b[0;32m~/.pyenv/pyenv38/lib/python3.8/site-packages/openai/_client.py:105\u001b[0m, in \u001b[0;36mOpenAI.__init__\u001b[0;34m(self, api_key, organization, project, base_url, timeout, max_retries, default_headers, default_query, http_client, _strict_response_validation)\u001b[0m\n\u001b[1;32m    103\u001b[0m     api_key \u001b[38;5;241m=\u001b[39m os\u001b[38;5;241m.\u001b[39menviron\u001b[38;5;241m.\u001b[39mget(\u001b[38;5;124m\"\u001b[39m\u001b[38;5;124mOPENAI_API_KEY\u001b[39m\u001b[38;5;124m\"\u001b[39m)\n\u001b[1;32m    104\u001b[0m \u001b[38;5;28;01mif\u001b[39;00m api_key \u001b[38;5;129;01mis\u001b[39;00m \u001b[38;5;28;01mNone\u001b[39;00m:\n\u001b[0;32m--> 105\u001b[0m     \u001b[38;5;28;01mraise\u001b[39;00m OpenAIError(\n\u001b[1;32m    106\u001b[0m         \u001b[38;5;124m\"\u001b[39m\u001b[38;5;124mThe api_key client option must be set either by passing api_key to the client or by setting the OPENAI_API_KEY environment variable\u001b[39m\u001b[38;5;124m\"\u001b[39m\n\u001b[1;32m    107\u001b[0m     )\n\u001b[1;32m    108\u001b[0m \u001b[38;5;28mself\u001b[39m\u001b[38;5;241m.\u001b[39mapi_key \u001b[38;5;241m=\u001b[39m api_key\n\u001b[1;32m    110\u001b[0m \u001b[38;5;28;01mif\u001b[39;00m organization \u001b[38;5;129;01mis\u001b[39;00m \u001b[38;5;28;01mNone\u001b[39;00m:\n",
      "\u001b[0;31mOpenAIError\u001b[0m: The api_key client option must be set either by passing api_key to the client or by setting the OPENAI_API_KEY environment variable"
     ]
    }
   ],
   "source": [
    "import openai\n",
    "\n",
    "# Initialize the session state as a dictionary for tracking the conversation history\n",
    "session_state = {\n",
    "    'message_list': [\n",
    "        {\"role\": \"system\", \"content\": \"You are a helpful assistant.\"}\n",
    "    ]\n",
    "}\n",
    "\n",
    "class Conversation:\n",
    "    def __init__(self):\n",
    "        # Configure the OpenAI client to communicate with the local model server\n",
    "        self.client = openai.OpenAI(\n",
    "            base_url='http://localhost:11434/v1',\n",
    "            api_key='ollama',  # api_key is required, but unused for local models\n",
    "        )\n",
    "\n",
    "    def message(self, question):\n",
    "        # Add the user's question to the message list\n",
    "        user_input = {\"role\": \"user\", \"content\": question}\n",
    "        session_state['message_list'].append(user_input)\n",
    "\n",
    "        # Generate the assistant's response\n",
    "        response = self.client.chat.completions.create(\n",
    "            model=\"llama3.1\",\n",
    "            messages=session_state['message_list']\n",
    "        )\n",
    "\n",
    "        # Add the assistant's response to the message list\n",
    "        assistant_response = {\"role\": \"assistant\", \"content\": response.choices[0].message.content}\n",
    "        session_state['message_list'].append(assistant_response)\n",
    "\n",
    "        # Return the content of the assistant's response\n",
    "        return response.choices[0].message.content\n",
    "\n",
    "\n",
    "# Instantiate the conversation object\n",
    "conversation = Conversation()\n",
    "\n",
    "# Function to handle the input/output loop\n",
    "def chat():\n",
    "    print(\"Hello human!\")\n",
    "    while True:\n",
    "        # Get the user's question\n",
    "        user_input = input(\"Ask a question (or type 'exit' to stop): \")\n",
    "\n",
    "        # Exit the loop if the user types 'exit'\n",
    "        if user_input.lower() == 'exit':\n",
    "            print(\"Goodbye!\")\n",
    "            break\n",
    "\n",
    "        # Get the assistant's response\n",
    "        with openai.Client():\n",
    "            answer = conversation.message(user_input)\n",
    "\n",
    "        # Print the conversation history\n",
    "        for message in session_state['message_list']:\n",
    "            if message['role'] == 'user':\n",
    "                print(f\"User: {message['content']}\")\n",
    "            elif message['role'] == 'assistant':\n",
    "                print(f\"Assistant: {message['content']}\")\n",
    "\n",
    "# Run the chat function to start the conversation\n",
    "chat()\n"
   ]
  },
  {
   "cell_type": "code",
   "execution_count": 1,
   "id": "095d533d-8b37-4f40-ac95-225fda1ae592",
   "metadata": {},
   "outputs": [
    {
     "ename": "OpenAIError",
     "evalue": "The api_key client option must be set either by passing api_key to the client or by setting the OPENAI_API_KEY environment variable",
     "output_type": "error",
     "traceback": [
      "\u001b[0;31m---------------------------------------------------------------------------\u001b[0m",
      "\u001b[0;31mOpenAIError\u001b[0m                               Traceback (most recent call last)",
      "Cell \u001b[0;32mIn[1], line 38\u001b[0m\n\u001b[1;32m     34\u001b[0m         \u001b[38;5;28;01mreturn\u001b[39;00m response\u001b[38;5;241m.\u001b[39mchoices[\u001b[38;5;241m0\u001b[39m]\u001b[38;5;241m.\u001b[39mmessage\u001b[38;5;241m.\u001b[39mcontent\n\u001b[1;32m     37\u001b[0m \u001b[38;5;66;03m# Instantiate the conversation object\u001b[39;00m\n\u001b[0;32m---> 38\u001b[0m conversation \u001b[38;5;241m=\u001b[39m \u001b[43mConversation\u001b[49m\u001b[43m(\u001b[49m\u001b[43m)\u001b[49m\n\u001b[1;32m     40\u001b[0m \u001b[38;5;66;03m# Function to handle the input/output loop\u001b[39;00m\n\u001b[1;32m     41\u001b[0m \u001b[38;5;28;01mdef\u001b[39;00m \u001b[38;5;21mchat\u001b[39m(user_input):\n",
      "Cell \u001b[0;32mIn[1], line 13\u001b[0m, in \u001b[0;36mConversation.__init__\u001b[0;34m(self)\u001b[0m\n\u001b[1;32m     11\u001b[0m \u001b[38;5;28;01mdef\u001b[39;00m \u001b[38;5;21m__init__\u001b[39m(\u001b[38;5;28mself\u001b[39m):\n\u001b[1;32m     12\u001b[0m     \u001b[38;5;66;03m# Configure the OpenAI client to communicate with the local model server\u001b[39;00m\n\u001b[0;32m---> 13\u001b[0m     \u001b[38;5;28mself\u001b[39m\u001b[38;5;241m.\u001b[39mclient \u001b[38;5;241m=\u001b[39m \u001b[43mopenai\u001b[49m\u001b[38;5;241;43m.\u001b[39;49m\u001b[43mOpenAI\u001b[49m\u001b[43m(\u001b[49m\n\u001b[1;32m     14\u001b[0m \u001b[43m        \u001b[49m\u001b[43mbase_url\u001b[49m\u001b[38;5;241;43m=\u001b[39;49m\u001b[38;5;124;43m'\u001b[39;49m\u001b[38;5;124;43mhttp://localhost:11434/v1\u001b[39;49m\u001b[38;5;124;43m'\u001b[39;49m\u001b[43m,\u001b[49m\n\u001b[1;32m     15\u001b[0m \u001b[43m        \u001b[49m\u001b[38;5;66;43;03m# api_key='ollama',  # api_key is required, but unused for local models\u001b[39;49;00m\n\u001b[1;32m     16\u001b[0m \u001b[43m    \u001b[49m\u001b[43m)\u001b[49m\n",
      "File \u001b[0;32m~/.pyenv/pyenv38/lib/python3.8/site-packages/openai/_client.py:105\u001b[0m, in \u001b[0;36mOpenAI.__init__\u001b[0;34m(self, api_key, organization, project, base_url, timeout, max_retries, default_headers, default_query, http_client, _strict_response_validation)\u001b[0m\n\u001b[1;32m    103\u001b[0m     api_key \u001b[38;5;241m=\u001b[39m os\u001b[38;5;241m.\u001b[39menviron\u001b[38;5;241m.\u001b[39mget(\u001b[38;5;124m\"\u001b[39m\u001b[38;5;124mOPENAI_API_KEY\u001b[39m\u001b[38;5;124m\"\u001b[39m)\n\u001b[1;32m    104\u001b[0m \u001b[38;5;28;01mif\u001b[39;00m api_key \u001b[38;5;129;01mis\u001b[39;00m \u001b[38;5;28;01mNone\u001b[39;00m:\n\u001b[0;32m--> 105\u001b[0m     \u001b[38;5;28;01mraise\u001b[39;00m OpenAIError(\n\u001b[1;32m    106\u001b[0m         \u001b[38;5;124m\"\u001b[39m\u001b[38;5;124mThe api_key client option must be set either by passing api_key to the client or by setting the OPENAI_API_KEY environment variable\u001b[39m\u001b[38;5;124m\"\u001b[39m\n\u001b[1;32m    107\u001b[0m     )\n\u001b[1;32m    108\u001b[0m \u001b[38;5;28mself\u001b[39m\u001b[38;5;241m.\u001b[39mapi_key \u001b[38;5;241m=\u001b[39m api_key\n\u001b[1;32m    110\u001b[0m \u001b[38;5;28;01mif\u001b[39;00m organization \u001b[38;5;129;01mis\u001b[39;00m \u001b[38;5;28;01mNone\u001b[39;00m:\n",
      "\u001b[0;31mOpenAIError\u001b[0m: The api_key client option must be set either by passing api_key to the client or by setting the OPENAI_API_KEY environment variable"
     ]
    }
   ],
   "source": [
    "import openai\n",
    "\n",
    "# Initialize the session state as a dictionary for tracking the conversation history\n",
    "session_state = {\n",
    "    'message_list': [\n",
    "        {\"role\": \"system\", \"content\": \"You are a helpful assistant.\"}\n",
    "    ]\n",
    "}\n",
    "\n",
    "class Conversation:\n",
    "    def __init__(self):\n",
    "        # Configure the OpenAI client to communicate with the local model server\n",
    "        self.client = openai.OpenAI(\n",
    "            base_url='http://localhost:11434/v1',\n",
    "            # api_key='ollama',  # api_key is required, but unused for local models\n",
    "        )\n",
    "\n",
    "    def message(self, question):\n",
    "        # Add the user's question to the message list\n",
    "        user_input = {\"role\": \"user\", \"content\": question}\n",
    "        session_state['message_list'].append(user_input)\n",
    "\n",
    "        # Generate the assistant's response\n",
    "        response = self.client.chat.completions.create(\n",
    "            model=\"llama3.1\",\n",
    "            messages=session_state['message_list']\n",
    "        )\n",
    "\n",
    "        # Add the assistant's response to the message list\n",
    "        assistant_response = {\"role\": \"assistant\", \"content\": response.choices[0].message.content}\n",
    "        session_state['message_list'].append(assistant_response)\n",
    "\n",
    "        # Return the content of the assistant's response\n",
    "        return response.choices[0].message.content\n",
    "\n",
    "\n",
    "# Instantiate the conversation object\n",
    "conversation = Conversation()\n",
    "\n",
    "# Function to handle the input/output loop\n",
    "def chat(user_input):\n",
    "    print(\"Hello human!\")\n",
    "    while True:\n",
    "        # Get the user's question\n",
    "        # user_input = input(\"Ask a question (or type 'exit' to stop): \")\n",
    "\n",
    "        # Exit the loop if the user types 'exit'\n",
    "        if user_input.lower() == 'exit':\n",
    "            print(\"Goodbye!\")\n",
    "            break\n",
    "\n",
    "        # Get the assistant's response\n",
    "        with openai.Client():\n",
    "            answer = conversation.message(user_input)\n",
    "\n",
    "        # Print the conversation history\n",
    "        for message in session_state['message_list']:\n",
    "            if message['role'] == 'user':\n",
    "                print(f\"User: {message['content']}\")\n",
    "            elif message['role'] == 'assistant':\n",
    "                print(f\"Assistant: {message['content']}\")"
   ]
  },
  {
   "cell_type": "code",
   "execution_count": 2,
   "id": "962478a5-ef68-49ee-bfbc-dd33c8cee713",
   "metadata": {},
   "outputs": [
    {
     "ename": "NameError",
     "evalue": "name 'chat' is not defined",
     "output_type": "error",
     "traceback": [
      "\u001b[0;31m---------------------------------------------------------------------------\u001b[0m",
      "\u001b[0;31mNameError\u001b[0m                                 Traceback (most recent call last)",
      "Cell \u001b[0;32mIn[2], line 2\u001b[0m\n\u001b[1;32m      1\u001b[0m text \u001b[38;5;241m=\u001b[39m \u001b[38;5;124m\"\u001b[39m\u001b[38;5;124mcan you explain what is chatbot\u001b[39m\u001b[38;5;124m\"\u001b[39m\n\u001b[0;32m----> 2\u001b[0m \u001b[43mchat\u001b[49m(text)\n",
      "\u001b[0;31mNameError\u001b[0m: name 'chat' is not defined"
     ]
    }
   ],
   "source": [
    "text = \"can you explain what is chatbot\"\n",
    "chat(text)"
   ]
  },
  {
   "cell_type": "code",
   "execution_count": null,
   "id": "91d915a0-641c-4c2a-b63e-0dae02d6fc35",
   "metadata": {},
   "outputs": [],
   "source": []
  }
 ],
 "metadata": {
  "kernelspec": {
   "display_name": "Python 3 (ipykernel)",
   "language": "python",
   "name": "python3"
  },
  "language_info": {
   "codemirror_mode": {
    "name": "ipython",
    "version": 3
   },
   "file_extension": ".py",
   "mimetype": "text/x-python",
   "name": "python",
   "nbconvert_exporter": "python",
   "pygments_lexer": "ipython3",
   "version": "3.8.10"
  }
 },
 "nbformat": 4,
 "nbformat_minor": 5
}
